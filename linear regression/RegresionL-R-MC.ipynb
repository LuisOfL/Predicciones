{
 "cells": [
  {
   "cell_type": "markdown",
   "id": "3e146a2a-69b3-4d51-946d-3ad35db950fa",
   "metadata": {},
   "source": [
    "# Regresion Lineal Minimos Cuadrados(R)"
   ]
  },
  {
   "cell_type": "markdown",
   "id": "07dcd959-7077-450a-a438-fc407780fea7",
   "metadata": {},
   "source": [
    "Creacion de Funciones"
   ]
  },
  {
   "cell_type": "code",
   "execution_count": 1,
   "id": "f35f567d-2598-41c4-a8c8-9be25cf21d5b",
   "metadata": {},
   "outputs": [],
   "source": [
    "Media <- function(v){\n",
    "    return(sum(v)/length(v))\n",
    "}\n",
    "ProPunt <-function(v1,v2){\n",
    "    return(sum(v1*v2))\n",
    "}\n",
    "CuaVec <- function(v1){\n",
    "    return(v1^2)\n",
    "}\n",
    "B <- function(v1,v2){\n",
    "    p1 = ProPunt(v1,v2)-(length(v1)*Media(v1)*Media(v2))\n",
    "    p2 = sum(CuaVec(v1))-length(v1)*(Media(v1)^2)\n",
    "    return(p1/p2) \n",
    "}\n",
    "A <- function(v1,v2){\n",
    "    return(Media(v2)-B(v1,v2)*Media(v1))\n",
    "}"
   ]
  },
  {
   "cell_type": "markdown",
   "id": "de17aeb7-668d-4fb3-b5e2-73d7ffb1f117",
   "metadata": {},
   "source": [
    "# Carga dataset"
   ]
  },
  {
   "cell_type": "code",
   "execution_count": 12,
   "id": "4ce0fec8-4cbe-4bc1-9357-e795e3e2a7b3",
   "metadata": {},
   "outputs": [],
   "source": [
    "horas = c(1,2,3,4,5,6,7,8,9,10)\n",
    "calificaciones = c(4,5,5.5,6,6.5,7,8,8.5,9,10)\n",
    "b <- B(horas, calificaciones) \n",
    "a <- A(horas, calificaciones)"
   ]
  },
  {
   "cell_type": "code",
   "execution_count": 14,
   "id": "f513280b-69ea-4a10-af60-e706fc581ca6",
   "metadata": {},
   "outputs": [
    {
     "data": {
      "image/png": "[encoded data removed]",
      "text/plain": [
       "plot without title"
      ]
     },
     "metadata": {},
     "output_type": "display_data"
    }
   ],
   "source": [
    "plot(horas, calificaciones)\n",
    "abline(a,b)"
   ]
  },
  {
   "cell_type": "code",
   "execution_count": null,
   "id": "40d6806c-b652-4a83-845e-2f10285ec783",
   "metadata": {},
   "outputs": [],
   "source": []
  }
 ],
 "metadata": {
  "kernelspec": {
   "display_name": "R [conda env:Curso]",
   "language": "R",
   "name": "conda-env-Curso-r"
  },
  "language_info": {
   "codemirror_mode": "r",
   "file_extension": ".r",
   "mimetype": "text/x-r-source",
   "name": "R",
   "pygments_lexer": "r",
   "version": "3.6.1"
  }
 },
 "nbformat": 4,
 "nbformat_minor": 5
}
